{
 "cells": [
  {
   "cell_type": "markdown",
   "metadata": {},
   "source": [
    "#  What are the pros and cons of bootstrapping in Easy 21?\n",
    "Bootstrapping typically requires less episodes to reach the same MSE since it is performing an update per step rather than one update per episode. \n",
    "\n",
    "#  Will bootstrapping be more useful for Easy 21 or Blackjack?\n",
    "Bootstrapping will be more useful in Easy 21 since episodes are typically longer than in Blackjack because of black red mechanic.  This means that updating each step rather than each episode becomes becomes more valuable in terms of faster reduction in MSE.\n",
    "#  What are the pros and cons of Linear function approximation? \n",
    "The pro of function approximation are faster convergence due to learning of similar states. The con is reduction in accuracy since the approximator does not perfectly represent the state as in table lookup.\n",
    "#  How would you modify th function approximator to produce a better results\n",
    "I would try to change the function approximator to a linear function approximator with using player score, dealer score and action as a feature so 33 features as this is simplest formulation.  The coarse could function approximator could also be changed to not include overlapping so the model does not have to share a weight between two regions."
   ]
  },
  {
   "cell_type": "code",
   "execution_count": null,
   "metadata": {
    "collapsed": true
   },
   "outputs": [],
   "source": []
  }
 ],
 "metadata": {
  "kernelspec": {
   "display_name": "Python 3",
   "language": "python",
   "name": "python3"
  },
  "language_info": {
   "codemirror_mode": {
    "name": "ipython",
    "version": 3
   },
   "file_extension": ".py",
   "mimetype": "text/x-python",
   "name": "python",
   "nbconvert_exporter": "python",
   "pygments_lexer": "ipython3",
   "version": "3.6.1"
  }
 },
 "nbformat": 4,
 "nbformat_minor": 2
}
